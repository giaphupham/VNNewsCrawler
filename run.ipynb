{
 "cells": [
  {
   "cell_type": "code",
   "execution_count": 1,
   "metadata": {},
   "outputs": [
    {
     "name": "stdout",
     "output_type": "stream",
     "text": [
      "Collecting bs4==0.0.1\n",
      "  Downloading bs4-0.0.1.tar.gz (1.1 kB)\n",
      "  Preparing metadata (setup.py): started\n",
      "  Preparing metadata (setup.py): finished with status 'done'\n",
      "Collecting requests==2.28.1\n",
      "  Downloading requests-2.28.1-py3-none-any.whl (62 kB)\n",
      "     ---------------------------------------- 62.8/62.8 kB 1.1 MB/s eta 0:00:00\n",
      "Collecting tqdm==4.64.1\n",
      "  Downloading tqdm-4.64.1-py2.py3-none-any.whl (78 kB)\n",
      "     ---------------------------------------- 78.5/78.5 kB 4.5 MB/s eta 0:00:00\n",
      "Collecting pyyaml==6.0\n",
      "  Downloading PyYAML-6.0-cp310-cp310-win_amd64.whl (151 kB)\n",
      "     -------------------------------------- 151.7/151.7 kB 2.2 MB/s eta 0:00:00\n",
      "Collecting beautifulsoup4\n",
      "  Downloading beautifulsoup4-4.12.3-py3-none-any.whl (147 kB)\n",
      "     -------------------------------------- 147.9/147.9 kB 2.9 MB/s eta 0:00:00\n",
      "Collecting charset-normalizer<3,>=2\n",
      "  Downloading charset_normalizer-2.1.1-py3-none-any.whl (39 kB)\n",
      "Collecting urllib3<1.27,>=1.21.1\n",
      "  Downloading urllib3-1.26.18-py2.py3-none-any.whl (143 kB)\n",
      "     -------------------------------------- 143.8/143.8 kB 8.3 MB/s eta 0:00:00\n",
      "Requirement already satisfied: idna<4,>=2.5 in c:\\users\\rongc\\appdata\\local\\programs\\python\\python310\\lib\\site-packages (from requests==2.28.1->-r requirements.txt (line 2)) (3.6)\n",
      "Requirement already satisfied: certifi>=2017.4.17 in c:\\users\\rongc\\appdata\\local\\programs\\python\\python310\\lib\\site-packages (from requests==2.28.1->-r requirements.txt (line 2)) (2024.2.2)\n",
      "Requirement already satisfied: colorama in c:\\users\\rongc\\appdata\\local\\programs\\python\\python310\\lib\\site-packages (from tqdm==4.64.1->-r requirements.txt (line 3)) (0.4.6)\n",
      "Collecting soupsieve>1.2\n",
      "  Downloading soupsieve-2.5-py3-none-any.whl (36 kB)\n",
      "Building wheels for collected packages: bs4\n",
      "  Building wheel for bs4 (setup.py): started\n",
      "  Building wheel for bs4 (setup.py): finished with status 'done'\n",
      "  Created wheel for bs4: filename=bs4-0.0.1-py3-none-any.whl size=1262 sha256=d987b9d4072650060b03e1d091776695a30308c825e95b591ece1204ca93d1ef\n",
      "  Stored in directory: c:\\users\\rongc\\appdata\\local\\pip\\cache\\wheels\\e4\\62\\1d\\d4d1bc4f33350ff84227f89b258edb552d604138e3739f5c83\n",
      "Successfully built bs4\n",
      "Installing collected packages: urllib3, tqdm, soupsieve, pyyaml, charset-normalizer, requests, beautifulsoup4, bs4\n",
      "  Attempting uninstall: urllib3\n",
      "    Found existing installation: urllib3 2.2.1\n",
      "    Uninstalling urllib3-2.2.1:\n",
      "      Successfully uninstalled urllib3-2.2.1\n",
      "  Attempting uninstall: tqdm\n",
      "    Found existing installation: tqdm 4.66.2\n",
      "    Uninstalling tqdm-4.66.2:\n",
      "      Successfully uninstalled tqdm-4.66.2\n",
      "  Attempting uninstall: pyyaml\n",
      "    Found existing installation: PyYAML 6.0.1\n",
      "    Uninstalling PyYAML-6.0.1:\n",
      "      Successfully uninstalled PyYAML-6.0.1\n",
      "  Attempting uninstall: charset-normalizer\n",
      "    Found existing installation: charset-normalizer 3.3.2\n",
      "    Uninstalling charset-normalizer-3.3.2:\n",
      "      Successfully uninstalled charset-normalizer-3.3.2\n",
      "  Attempting uninstall: requests\n",
      "    Found existing installation: requests 2.31.0\n",
      "    Uninstalling requests-2.31.0:\n",
      "      Successfully uninstalled requests-2.31.0\n",
      "Successfully installed beautifulsoup4-4.12.3 bs4-0.0.1 charset-normalizer-2.1.1 pyyaml-6.0 requests-2.28.1 soupsieve-2.5 tqdm-4.64.1 urllib3-1.26.18\n",
      "Note: you may need to restart the kernel to use updated packages.\n"
     ]
    },
    {
     "name": "stderr",
     "output_type": "stream",
     "text": [
      "\n",
      "[notice] A new release of pip available: 22.3.1 -> 24.0\n",
      "[notice] To update, run: python.exe -m pip install --upgrade pip\n"
     ]
    }
   ],
   "source": [
    "%pip install -r requirements.txt"
   ]
  },
  {
   "cell_type": "code",
   "execution_count": 4,
   "metadata": {},
   "outputs": [
    {
     "name": "stdout",
     "output_type": "stream",
     "text": [
      "Crawl articles type khoa-hoc\n",
      "Getting urls of khoa-hoc...\n",
      "Crawling from urls of khoa-hoc...\n",
      "Start crawling urls from result/urls/khoa-hoc.txt file...\n",
      "Saving crawling result into result/khoa-hoc directory...\n",
      "The number of failed URL: 0\n"
     ]
    },
    {
     "name": "stderr",
     "output_type": "stream",
     "text": [
      "\n",
      "Pages:   0%|          | 0/1 [00:00<?, ?it/s]\n",
      "Pages: 100%|██████████| 1/1 [00:01<00:00,  1.30s/it]\n",
      "Pages: 100%|██████████| 1/1 [00:01<00:00,  1.30s/it]\n",
      "\n",
      "URLs:   0%|          | 0/35 [00:00<?, ?it/s]\n",
      "URLs:   3%|▎         | 1/35 [00:00<00:04,  7.30it/s]\n",
      "URLs:   9%|▊         | 3/35 [00:01<00:13,  2.42it/s]\n",
      "URLs:  17%|█▋        | 6/35 [00:01<00:06,  4.20it/s]\n",
      "URLs:  40%|████      | 14/35 [00:02<00:03,  5.99it/s]\n",
      "URLs:  46%|████▌     | 16/35 [00:03<00:03,  5.74it/s]\n",
      "URLs:  71%|███████▏  | 25/35 [00:03<00:01,  9.32it/s]\n",
      "URLs:  77%|███████▋  | 27/35 [00:04<00:01,  5.09it/s]\n",
      "URLs: 100%|██████████| 35/35 [00:04<00:00,  7.11it/s]\n"
     ]
    }
   ],
   "source": [
    "!python VNNewsCrawler.py --config crawler_config.yml"
   ]
  }
 ],
 "metadata": {
  "kernelspec": {
   "display_name": "Python 3",
   "language": "python",
   "name": "python3"
  },
  "language_info": {
   "codemirror_mode": {
    "name": "ipython",
    "version": 3
   },
   "file_extension": ".py",
   "mimetype": "text/x-python",
   "name": "python",
   "nbconvert_exporter": "python",
   "pygments_lexer": "ipython3",
   "version": "3.10.9"
  }
 },
 "nbformat": 4,
 "nbformat_minor": 2
}
